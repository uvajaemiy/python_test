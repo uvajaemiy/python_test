{
  "nbformat": 4,
  "nbformat_minor": 0,
  "metadata": {
    "kernelspec": {
      "display_name": "Python 3",
      "language": "python",
      "name": "python3"
    },
    "language_info": {
      "codemirror_mode": {
        "name": "ipython",
        "version": 3
      },
      "file_extension": ".py",
      "mimetype": "text/x-python",
      "name": "python",
      "nbconvert_exporter": "python",
      "pygments_lexer": "ipython3",
      "version": "3.6.8"
    },
    "colab": {
      "name": "Copy of Апрельский курс 2020. Light. Python, Домашнее задание 1",
      "provenance": [],
      "collapsed_sections": [],
      "include_colab_link": true
    }
  },
  "cells": [
    {
      "cell_type": "markdown",
      "metadata": {
        "id": "view-in-github",
        "colab_type": "text"
      },
      "source": [
        "<a href=\"https://colab.research.google.com/github/uvajaemiy/python_test/blob/master/Copy_of_%D0%90%D0%BF%D1%80%D0%B5%D0%BB%D1%8C%D1%81%D0%BA%D0%B8%D0%B9_%D0%BA%D1%83%D1%80%D1%81_2020_Light_Python%2C_%D0%94%D0%BE%D0%BC%D0%B0%D1%88%D0%BD%D0%B5%D0%B5_%D0%B7%D0%B0%D0%B4%D0%B0%D0%BD%D0%B8%D0%B5_1.ipynb\" target=\"_parent\"><img src=\"https://colab.research.google.com/assets/colab-badge.svg\" alt=\"Open In Colab\"/></a>"
      ]
    },
    {
      "cell_type": "markdown",
      "metadata": {
        "id": "U7hoFvcehdnc",
        "colab_type": "text"
      },
      "source": [
        "## Домашнее задание 1. Введение в Python."
      ]
    },
    {
      "cell_type": "markdown",
      "metadata": {
        "id": "0cQ01NCnkysR",
        "colab_type": "text"
      },
      "source": [
        "## Light версия"
      ]
    },
    {
      "cell_type": "markdown",
      "metadata": {
        "id": "bW_kKRKthdn7",
        "colab_type": "text"
      },
      "source": [
        "### Задача 1\n",
        "\n",
        "С помощью функции input считайте с входящей строки два целых числа и выведите их сумму, разность, произведение."
      ]
    },
    {
      "cell_type": "code",
      "metadata": {
        "id": "ncbpypGALLqs",
        "colab_type": "code",
        "colab": {
          "base_uri": "https://localhost:8080/",
          "height": 119
        },
        "outputId": "88fc6a18-6792-4caa-daf9-bcbf46bbcde6"
      },
      "source": [
        "a = int(input (\"введите первое число \"))\n",
        "b = int(input (\"введите второе число \"))\n",
        "t = a + b\n",
        "y = a - b\n",
        "u = a * b\n",
        "e = a / b\n",
        "print (\"сложение: \", t,) #или так print ('ответ:, a+b)\n",
        "print ('вычетание: ', y)\n",
        "print ('умножение: ', u)\n",
        "print ('деление: ', e)\n"
      ],
      "execution_count": 18,
      "outputs": [
        {
          "output_type": "stream",
          "text": [
            "введите первое число 789\n",
            "введите второе число 788\n",
            "сложение:  1577\n",
            "вычетание:  1\n",
            "умножение:  621732\n",
            "деление:  1.001269035532995\n"
          ],
          "name": "stdout"
        }
      ]
    },
    {
      "cell_type": "markdown",
      "metadata": {
        "id": "PguJdnEqhdoI",
        "colab_type": "text"
      },
      "source": [
        "### Задача 2\n",
        "\n",
        "Дан ряд целых чисел от 10 до 25 включительно. Используя цикл for, выведите на экран сумму двух последовательно идущих чисел.\n",
        "\n",
        "\n",
        "**Пример**: \n",
        "\n",
        "для ряда от 2 до 6 включительно выдача выглядит так: \n",
        "\n",
        "5\n",
        "\n",
        "7\n",
        "\n",
        "9\n",
        "\n",
        "11\n"
      ]
    },
    {
      "cell_type": "code",
      "metadata": {
        "id": "hvrkKPAOisIk",
        "colab_type": "code",
        "colab": {
          "base_uri": "https://localhost:8080/",
          "height": 289
        },
        "outputId": "1cfc7a1e-2e80-49a2-e19c-1a015c1e1b0e"
      },
      "source": [
        "\n",
        "for i in range(10, 26):\n",
        "  print(i*2 + 1)\n",
        "  "
      ],
      "execution_count": 60,
      "outputs": [
        {
          "output_type": "stream",
          "text": [
            "21\n",
            "23\n",
            "25\n",
            "27\n",
            "29\n",
            "31\n",
            "33\n",
            "35\n",
            "37\n",
            "39\n",
            "41\n",
            "43\n",
            "45\n",
            "47\n",
            "49\n",
            "51\n"
          ],
          "name": "stdout"
        }
      ]
    },
    {
      "cell_type": "markdown",
      "metadata": {
        "id": "CZpydHtThdoR",
        "colab_type": "text"
      },
      "source": [
        "### Задача 3\n",
        "\n",
        "Для ряда целых чисел от 100 до 150 включительно выведите на экран только те, что делятся на 5 без остатка."
      ]
    },
    {
      "cell_type": "code",
      "metadata": {
        "id": "a15B1BqR8zFp",
        "colab_type": "code",
        "colab": {
          "base_uri": "https://localhost:8080/",
          "height": 204
        },
        "outputId": "259f0e2e-9f4a-4306-f7f9-128ebacb2d47"
      },
      "source": [
        "for i in range (100, 151):\n",
        "      if i % 5==0:\n",
        "         print (i)"
      ],
      "execution_count": 1,
      "outputs": [
        {
          "output_type": "stream",
          "text": [
            "100\n",
            "105\n",
            "110\n",
            "115\n",
            "120\n",
            "125\n",
            "130\n",
            "135\n",
            "140\n",
            "145\n",
            "150\n"
          ],
          "name": "stdout"
        }
      ]
    },
    {
      "cell_type": "markdown",
      "metadata": {
        "id": "_L4Bd414hdog",
        "colab_type": "text"
      },
      "source": [
        "### Задача 4\n",
        "\n",
        "С помощью функции input считайте с входящей строки целое положительное число и сохраните его в переменную N. Используя конструкцию if...else, выведите на экран результат в зависимости от условий:\n",
        "\n",
        "* Если N нечетное, то выведите на экран \"N нечетное\"\n",
        "* Если N четное и входит в интервал от 5 до 10 включительно, выведите на экран \"N четное и принадлежит интервалу [5, 10]\"\n",
        "* Если N четное и больше 10, выведите на экран \"N четное и N > 10\"\n",
        "* Если N четное и меньше 5, выведите на экран \"N четное и N < 5\""
      ]
    },
    {
      "cell_type": "code",
      "metadata": {
        "id": "tyRdbaJxZHHw",
        "colab_type": "code",
        "colab": {}
      },
      "source": [
        ""
      ],
      "execution_count": 0,
      "outputs": []
    },
    {
      "cell_type": "markdown",
      "metadata": {
        "id": "WQweBQ8nhdol",
        "colab_type": "text"
      },
      "source": [
        "### Задача 5\n",
        "\n",
        "Используя цикл while, посчитайте и выведите на экран сумму всех целых чисел от 15 до 22 включительно.\n"
      ]
    },
    {
      "cell_type": "markdown",
      "metadata": {
        "id": "YhJKiRAchdow",
        "colab_type": "text"
      },
      "source": [
        "### Задача 6\n",
        "\n",
        "Используя цикл for, найдите сумму всех элементов заданного списка (без использования встроенных функций sum, len, sort и т.д.)."
      ]
    },
    {
      "cell_type": "code",
      "metadata": {
        "id": "Im5W6TNGhdo6",
        "colab_type": "code",
        "colab": {}
      },
      "source": [
        "my_list = [56, 23, 67, 45, 67, 2, 47, 158, 31, 34, 78, 23, 78, 23, 89, 23, 36]"
      ],
      "execution_count": 0,
      "outputs": []
    },
    {
      "cell_type": "markdown",
      "metadata": {
        "id": "wIZELo0mhdpU",
        "colab_type": "text"
      },
      "source": [
        "### Задача 7\n",
        "\n",
        "Используя цикл (любой), найдите значение максимального элемента списка из предыдущего задания (без использования встроенных функций max и т.д.). Можно использовать встроенные методы списков (любые). \n",
        "\n",
        "P.S. Не стесняйтесь гуглить :)\n",
        "\n",
        "P.S. 2 Гуглить нужно фразу \"алгоритм поиска максимального элемента массива\".\n",
        "\n",
        "Пример: для списка [3, 4, 1, 7, 2] значением максимального элемента является число 7."
      ]
    },
    {
      "cell_type": "markdown",
      "metadata": {
        "id": "omPfU7u9hdpi",
        "colab_type": "text"
      },
      "source": [
        "### Задача 8\n",
        "\n",
        "Создайте словарь, соответствующий следующему описанию. \n",
        "    \n",
        "В честь 8 марта начальник отдела Валера решил принести на работу коробку конфет и угостить коллег :) Красотка Наташа съела две конфеты, ее подруга Алина - целых три, разработчик Марат унес с собой в соседний опен-спейс целых пятнадцать, чтобы поделиться со своей командой, менеджер проекта Лев проходил мимо и съел одну конфету, а сам Валера, будучи сторонником здорового образа жизни, не съел ни одной.\n",
        "\n",
        "P.S. Все совпадения случайны :)"
      ]
    },
    {
      "cell_type": "markdown",
      "metadata": {
        "id": "UUK9d5hUhdpz",
        "colab_type": "text"
      },
      "source": [
        "### Задача 9\n",
        "\n",
        "Добавьте в словарь из предыдущего задания данные для студента Ромы, который работает неполный рабочий день, и, придя на работу после экзамена, с удовольствием съел 4 конфеты.\n",
        "\n",
        "P.S. Используйте встроенный метод .update"
      ]
    },
    {
      "cell_type": "markdown",
      "metadata": {
        "id": "vpQOcxmhhdp9",
        "colab_type": "text"
      },
      "source": [
        "## Pro-версия"
      ]
    },
    {
      "cell_type": "markdown",
      "metadata": {
        "id": "g9pd3inChdqC",
        "colab_type": "text"
      },
      "source": [
        "### Задача 1\n",
        "\n",
        "Выведите на экран следующий паттерн:\n",
        "\n",
        "@\n",
        "\n",
        "@ @\n",
        "\n",
        "@ @ @\n",
        "\n",
        "@ @ @ @ @\n",
        "\n",
        "Обратите внимание на пробел между символами. Рекомендуется использовать циклы (любые) для решения данного задания."
      ]
    },
    {
      "cell_type": "markdown",
      "metadata": {
        "id": "Vh7SqVB5hdqL",
        "colab_type": "text"
      },
      "source": [
        "### Задача 2\n",
        "\n",
        "Выведите на экран следующий паттерн:\n",
        "\n",
        "1\n",
        "\n",
        "2 2 \n",
        "\n",
        "3 3 3 \n",
        "\n",
        "4 4 4 4 \n",
        "\n",
        "5 5 5 5 5\n",
        "\n",
        "6 6 6 6\n",
        "\n",
        "7 7 7\n",
        "\n",
        "8 8\n",
        "\n",
        "9\n",
        "\n",
        "Обратите внимание на пробел между символами. Обратите внимание на пробел между символами. Рекомендуется использовать циклы (любые) для решения данного задания."
      ]
    },
    {
      "cell_type": "markdown",
      "metadata": {
        "id": "IMoF_J7AhdqT",
        "colab_type": "text"
      },
      "source": [
        "### Задача 3\n",
        "\n",
        "Используя цикл while, выведите на экран таблицу умножения для числа 7.\n",
        "\n",
        "**Пример:**\n",
        "    \n",
        "Для числе 5 выдача выглядит так:\n",
        "    \n",
        "5 * 1 = 5\n",
        "\n",
        "5 * 2 = 10\n",
        "\n",
        "5 * 3 = 15\n",
        "\n",
        "5 * 4 = 20\n",
        "\n",
        "5 * 5 = 25\n",
        "\n",
        "...\n",
        "\n",
        "5 * 9 = 45"
      ]
    },
    {
      "cell_type": "markdown",
      "metadata": {
        "id": "rvEbKNeIhdqY",
        "colab_type": "text"
      },
      "source": [
        "### Задача 4\n",
        "\n",
        "Представьте, что вы подбрасываете два кубика одновременно. Считайте с входящей строки два целых числа d1 и d2. Проверьте, соответсуют ли введенные числа интервалу значений для кубика. Если нет, то выведите на экран строку \"Ошибка! Значение на кубике (1 или 2, вставьте подходящее значение) не входит в интервал [1, 6]\". В противном случае посчитайте сумму выпавших значений. Если сумма равна 7 или 11, выведите на экран \"Я победил!!!\". Если сумма равна 2, 3 или 12, то выведите на экран \"Я проиграл :(\". Во всех остальных случаях выведите на экран сумму значений.\n"
      ]
    },
    {
      "cell_type": "markdown",
      "metadata": {
        "id": "OTSU9QTLhdqe",
        "colab_type": "text"
      },
      "source": [
        "### Задача 5\n",
        "\n",
        "Напишите код, который ищет все числа в интервале от 3000 до 4300 включительно, делящиеся на 11, но не делящиеся на 5. Выведите на экран все найденные числа."
      ]
    },
    {
      "cell_type": "markdown",
      "metadata": {
        "id": "m-pYH0xDhdqk",
        "colab_type": "text"
      },
      "source": [
        "### Задача 6\n",
        "\n",
        "Используя циклы, напишите код, который создает список (list) путем конкатенации значений данного листа с целыми числами от 1 до (произвольного) n включительно.\n",
        "\n",
        "Пример:\n",
        "\n",
        "для списка [\"сосиски\", \"горчица\"] при n = 3 результат должен выглядеть так:\n",
        "\n",
        "['сосиски$\\_$1', 'горчица$\\_$1', 'сосиски$\\_2$', 'горчица$\\_$2', 'сосиски$\\_$3', 'горчица$\\_$3']"
      ]
    },
    {
      "cell_type": "code",
      "metadata": {
        "id": "Eqz3zAL-hdqq",
        "colab_type": "code",
        "colab": {}
      },
      "source": [
        "sample_list = [\"мандаринки\", \"киви\", \"лимон\"]"
      ],
      "execution_count": 0,
      "outputs": []
    },
    {
      "cell_type": "markdown",
      "metadata": {
        "id": "WtwsV6BRhdrE",
        "colab_type": "text"
      },
      "source": [
        "### Задача 7\n",
        "\n",
        "Напишите код, который считает количество элементов в заданном списке до тех пор, пока не встретится элемент типа словарь.\n",
        "\n",
        "Пример:\n",
        "\n",
        "для списка [3, \"котики\", 0.45, 5, {'котики' : 2, 'слоники' : 9}, \"слоники\", 34] на выходе должны получить число 4"
      ]
    },
    {
      "cell_type": "code",
      "metadata": {
        "id": "m5iv-Hj9hdrM",
        "colab_type": "code",
        "outputId": "f0555914-ec07-420f-da65-6278f15ea4e4",
        "colab": {}
      },
      "source": [
        "list_for_pro_task_2 = [35, 0.24, 3 + 4j, \"котики\", 0.45, (8, 9), \"слоники\", {\"Мадрид\": 3, 'Лондон':5}, 23498]\n",
        "print(list_for_pro_task_2)"
      ],
      "execution_count": 0,
      "outputs": [
        {
          "output_type": "stream",
          "text": [
            "[35, 0.24, (3+4j), 'котики', 0.45, (8, 9), 'слоники', {'Мадрид': 3, 'Лондон': 5}, 23498]\n"
          ],
          "name": "stdout"
        }
      ]
    },
    {
      "cell_type": "markdown",
      "metadata": {
        "id": "fHMBDh-ahdrz",
        "colab_type": "text"
      },
      "source": [
        "### Задача 8\n",
        "\n",
        "Создайте словарь (dict) c ключами, соответствующими числам от 1 до 20 включительно и значениями, соответствующими квадратам ключей. \n",
        "\n",
        "P.S. Используйте циклы или функции, прямое \"ручное\" присваивание не допускается (!!!)\n",
        "\n",
        "Пример: \n",
        "\n",
        "для чисел от 1 до 3 включительно словарь должен выглядеть так: {1 : 1, 2 : 4, 3 : 9}"
      ]
    },
    {
      "cell_type": "code",
      "metadata": {
        "id": "7Wb4UYagfVJc",
        "colab_type": "code",
        "outputId": "529b3fa1-4c27-41d1-aa1a-8ce12beeba7b",
        "colab": {
          "base_uri": "https://localhost:8080/",
          "height": 34
        }
      },
      "source": [
        "print('hello pipl', 123, end = 'aaaa')"
      ],
      "execution_count": 0,
      "outputs": [
        {
          "output_type": "stream",
          "text": [
            "hello pipl 123aaaa"
          ],
          "name": "stdout"
        }
      ]
    },
    {
      "cell_type": "code",
      "metadata": {
        "id": "OJFrb39uhU4N",
        "colab_type": "code",
        "colab": {
          "base_uri": "https://localhost:8080/",
          "height": 34
        },
        "outputId": "f217cce3-c69c-441d-eb29-a9e05a0ddf73"
      },
      "source": [
        "print('hello pipl', 123, sep = 'iiiii' )"
      ],
      "execution_count": 8,
      "outputs": [
        {
          "output_type": "stream",
          "text": [
            "hello pipliiiii123\n"
          ],
          "name": "stdout"
        }
      ]
    },
    {
      "cell_type": "code",
      "metadata": {
        "id": "yLikt6t0iNQ-",
        "colab_type": "code",
        "colab": {
          "base_uri": "https://localhost:8080/",
          "height": 85
        },
        "outputId": "bf3b202e-d3b1-4f2d-f85f-3724242bd8ca"
      },
      "source": [
        "name = 'bmw'\n",
        "print(name, type(name))\n",
        "age = 5\n",
        "print(age, type(age))\n",
        "dvijok = 3\n",
        "print(dvijok, type(dvijok))\n",
        "luk_k = False\n",
        "print(type(luk_k))"
      ],
      "execution_count": 18,
      "outputs": [
        {
          "output_type": "stream",
          "text": [
            "bmw <class 'str'>\n",
            "5 <class 'int'>\n",
            "3 <class 'int'>\n",
            "<class 'bool'>\n"
          ],
          "name": "stdout"
        }
      ]
    },
    {
      "cell_type": "code",
      "metadata": {
        "id": "OkOLIfWDj1lS",
        "colab_type": "code",
        "colab": {}
      },
      "source": [
        ""
      ],
      "execution_count": 0,
      "outputs": []
    }
  ]
}